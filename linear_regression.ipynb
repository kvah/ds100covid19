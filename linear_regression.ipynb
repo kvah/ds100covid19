{
 "cells": [
  {
   "cell_type": "code",
   "execution_count": 1,
   "metadata": {},
   "outputs": [],
   "source": [
    "import pandas as pd\n",
    "import numpy as np\n",
    "import warnings\n",
    "warnings.simplefilter(\"ignore\")"
   ]
  },
  {
   "cell_type": "code",
   "execution_count": 2,
   "metadata": {},
   "outputs": [
    {
     "data": {
      "text/html": [
       "<div>\n",
       "<style scoped>\n",
       "    .dataframe tbody tr th:only-of-type {\n",
       "        vertical-align: middle;\n",
       "    }\n",
       "\n",
       "    .dataframe tbody tr th {\n",
       "        vertical-align: top;\n",
       "    }\n",
       "\n",
       "    .dataframe thead th {\n",
       "        text-align: right;\n",
       "    }\n",
       "</style>\n",
       "<table border=\"1\" class=\"dataframe\">\n",
       "  <thead>\n",
       "    <tr style=\"text-align: right;\">\n",
       "      <th></th>\n",
       "      <th>variable</th>\n",
       "      <th>value</th>\n",
       "      <th>date</th>\n",
       "    </tr>\n",
       "  </thead>\n",
       "  <tbody>\n",
       "    <tr>\n",
       "      <td>0</td>\n",
       "      <td>1/22/20</td>\n",
       "      <td>1</td>\n",
       "      <td>2020-01-22</td>\n",
       "    </tr>\n",
       "    <tr>\n",
       "      <td>1</td>\n",
       "      <td>1/23/20</td>\n",
       "      <td>1</td>\n",
       "      <td>2020-01-23</td>\n",
       "    </tr>\n",
       "    <tr>\n",
       "      <td>2</td>\n",
       "      <td>1/24/20</td>\n",
       "      <td>2</td>\n",
       "      <td>2020-01-24</td>\n",
       "    </tr>\n",
       "    <tr>\n",
       "      <td>3</td>\n",
       "      <td>1/25/20</td>\n",
       "      <td>2</td>\n",
       "      <td>2020-01-25</td>\n",
       "    </tr>\n",
       "    <tr>\n",
       "      <td>4</td>\n",
       "      <td>1/26/20</td>\n",
       "      <td>5</td>\n",
       "      <td>2020-01-26</td>\n",
       "    </tr>\n",
       "    <tr>\n",
       "      <td>...</td>\n",
       "      <td>...</td>\n",
       "      <td>...</td>\n",
       "      <td>...</td>\n",
       "    </tr>\n",
       "    <tr>\n",
       "      <td>83</td>\n",
       "      <td>4/5/20</td>\n",
       "      <td>337072</td>\n",
       "      <td>2020-04-05</td>\n",
       "    </tr>\n",
       "    <tr>\n",
       "      <td>84</td>\n",
       "      <td>4/6/20</td>\n",
       "      <td>366667</td>\n",
       "      <td>2020-04-06</td>\n",
       "    </tr>\n",
       "    <tr>\n",
       "      <td>85</td>\n",
       "      <td>4/7/20</td>\n",
       "      <td>397505</td>\n",
       "      <td>2020-04-07</td>\n",
       "    </tr>\n",
       "    <tr>\n",
       "      <td>86</td>\n",
       "      <td>4/8/20</td>\n",
       "      <td>429052</td>\n",
       "      <td>2020-04-08</td>\n",
       "    </tr>\n",
       "    <tr>\n",
       "      <td>87</td>\n",
       "      <td>4/9/20</td>\n",
       "      <td>462780</td>\n",
       "      <td>2020-04-09</td>\n",
       "    </tr>\n",
       "  </tbody>\n",
       "</table>\n",
       "<p>88 rows × 3 columns</p>\n",
       "</div>"
      ],
      "text/plain": [
       "   variable   value       date\n",
       "0   1/22/20       1 2020-01-22\n",
       "1   1/23/20       1 2020-01-23\n",
       "2   1/24/20       2 2020-01-24\n",
       "3   1/25/20       2 2020-01-25\n",
       "4   1/26/20       5 2020-01-26\n",
       "..      ...     ...        ...\n",
       "83   4/5/20  337072 2020-04-05\n",
       "84   4/6/20  366667 2020-04-06\n",
       "85   4/7/20  397505 2020-04-07\n",
       "86   4/8/20  429052 2020-04-08\n",
       "87   4/9/20  462780 2020-04-09\n",
       "\n",
       "[88 rows x 3 columns]"
      ]
     },
     "execution_count": 2,
     "metadata": {},
     "output_type": "execute_result"
    }
   ],
   "source": [
    "cases = pd.read_csv(\"data/time_series_covid19_confirmed_US.csv\")\n",
    "cases.drop(['UID', 'iso2', 'iso3', 'code3', 'FIPS', 'Admin2', 'Province_State',\n",
    "       'Country_Region', 'Lat', 'Long_', 'Combined_Key'], inplace=True, axis=1)\n",
    "cases = cases.melt()\n",
    "cases = cases.groupby(\"variable\").sum().reset_index()\n",
    "cases[\"date\"] = cases[\"variable\"].apply(pd.to_datetime)\n",
    "cases"
   ]
  },
  {
   "cell_type": "code",
   "execution_count": 3,
   "metadata": {},
   "outputs": [
    {
     "data": {
      "text/html": [
       "<div>\n",
       "<style scoped>\n",
       "    .dataframe tbody tr th:only-of-type {\n",
       "        vertical-align: middle;\n",
       "    }\n",
       "\n",
       "    .dataframe tbody tr th {\n",
       "        vertical-align: top;\n",
       "    }\n",
       "\n",
       "    .dataframe thead th {\n",
       "        text-align: right;\n",
       "    }\n",
       "</style>\n",
       "<table border=\"1\" class=\"dataframe\">\n",
       "  <thead>\n",
       "    <tr style=\"text-align: right;\">\n",
       "      <th></th>\n",
       "      <th>Date</th>\n",
       "      <th>Open</th>\n",
       "      <th>High</th>\n",
       "      <th>Low</th>\n",
       "      <th>Close</th>\n",
       "      <th>Adj Close</th>\n",
       "      <th>Volume</th>\n",
       "    </tr>\n",
       "  </thead>\n",
       "  <tbody>\n",
       "    <tr>\n",
       "      <td>0</td>\n",
       "      <td>2019-04-22</td>\n",
       "      <td>13.210000</td>\n",
       "      <td>13.360000</td>\n",
       "      <td>12.380000</td>\n",
       "      <td>12.420000</td>\n",
       "      <td>12.420000</td>\n",
       "      <td>0</td>\n",
       "    </tr>\n",
       "    <tr>\n",
       "      <td>1</td>\n",
       "      <td>2019-04-23</td>\n",
       "      <td>12.660000</td>\n",
       "      <td>12.690000</td>\n",
       "      <td>12.080000</td>\n",
       "      <td>12.280000</td>\n",
       "      <td>12.280000</td>\n",
       "      <td>0</td>\n",
       "    </tr>\n",
       "    <tr>\n",
       "      <td>2</td>\n",
       "      <td>2019-04-24</td>\n",
       "      <td>12.530000</td>\n",
       "      <td>13.230000</td>\n",
       "      <td>12.260000</td>\n",
       "      <td>13.140000</td>\n",
       "      <td>13.140000</td>\n",
       "      <td>0</td>\n",
       "    </tr>\n",
       "    <tr>\n",
       "      <td>3</td>\n",
       "      <td>2019-04-25</td>\n",
       "      <td>13.290000</td>\n",
       "      <td>14.300000</td>\n",
       "      <td>12.810000</td>\n",
       "      <td>13.250000</td>\n",
       "      <td>13.250000</td>\n",
       "      <td>0</td>\n",
       "    </tr>\n",
       "    <tr>\n",
       "      <td>4</td>\n",
       "      <td>2019-04-26</td>\n",
       "      <td>13.440000</td>\n",
       "      <td>13.620000</td>\n",
       "      <td>12.490000</td>\n",
       "      <td>12.730000</td>\n",
       "      <td>12.730000</td>\n",
       "      <td>0</td>\n",
       "    </tr>\n",
       "    <tr>\n",
       "      <td>...</td>\n",
       "      <td>...</td>\n",
       "      <td>...</td>\n",
       "      <td>...</td>\n",
       "      <td>...</td>\n",
       "      <td>...</td>\n",
       "      <td>...</td>\n",
       "      <td>...</td>\n",
       "    </tr>\n",
       "    <tr>\n",
       "      <td>247</td>\n",
       "      <td>2020-04-14</td>\n",
       "      <td>40.240002</td>\n",
       "      <td>40.570000</td>\n",
       "      <td>37.310001</td>\n",
       "      <td>37.759998</td>\n",
       "      <td>37.759998</td>\n",
       "      <td>0</td>\n",
       "    </tr>\n",
       "    <tr>\n",
       "      <td>248</td>\n",
       "      <td>2020-04-15</td>\n",
       "      <td>42.570000</td>\n",
       "      <td>43.230000</td>\n",
       "      <td>40.049999</td>\n",
       "      <td>40.840000</td>\n",
       "      <td>40.840000</td>\n",
       "      <td>0</td>\n",
       "    </tr>\n",
       "    <tr>\n",
       "      <td>249</td>\n",
       "      <td>2020-04-16</td>\n",
       "      <td>41.919998</td>\n",
       "      <td>43.020000</td>\n",
       "      <td>39.869999</td>\n",
       "      <td>40.110001</td>\n",
       "      <td>40.110001</td>\n",
       "      <td>0</td>\n",
       "    </tr>\n",
       "    <tr>\n",
       "      <td>250</td>\n",
       "      <td>2020-04-17</td>\n",
       "      <td>39.500000</td>\n",
       "      <td>40.259998</td>\n",
       "      <td>37.630001</td>\n",
       "      <td>38.150002</td>\n",
       "      <td>38.150002</td>\n",
       "      <td>0</td>\n",
       "    </tr>\n",
       "    <tr>\n",
       "      <td>251</td>\n",
       "      <td>2020-04-20</td>\n",
       "      <td>40.680000</td>\n",
       "      <td>43.080002</td>\n",
       "      <td>39.880001</td>\n",
       "      <td>42.849998</td>\n",
       "      <td>42.849998</td>\n",
       "      <td>0</td>\n",
       "    </tr>\n",
       "  </tbody>\n",
       "</table>\n",
       "<p>252 rows × 7 columns</p>\n",
       "</div>"
      ],
      "text/plain": [
       "          Date       Open       High        Low      Close  Adj Close  Volume\n",
       "0   2019-04-22  13.210000  13.360000  12.380000  12.420000  12.420000       0\n",
       "1   2019-04-23  12.660000  12.690000  12.080000  12.280000  12.280000       0\n",
       "2   2019-04-24  12.530000  13.230000  12.260000  13.140000  13.140000       0\n",
       "3   2019-04-25  13.290000  14.300000  12.810000  13.250000  13.250000       0\n",
       "4   2019-04-26  13.440000  13.620000  12.490000  12.730000  12.730000       0\n",
       "..         ...        ...        ...        ...        ...        ...     ...\n",
       "247 2020-04-14  40.240002  40.570000  37.310001  37.759998  37.759998       0\n",
       "248 2020-04-15  42.570000  43.230000  40.049999  40.840000  40.840000       0\n",
       "249 2020-04-16  41.919998  43.020000  39.869999  40.110001  40.110001       0\n",
       "250 2020-04-17  39.500000  40.259998  37.630001  38.150002  38.150002       0\n",
       "251 2020-04-20  40.680000  43.080002  39.880001  42.849998  42.849998       0\n",
       "\n",
       "[252 rows x 7 columns]"
      ]
     },
     "execution_count": 3,
     "metadata": {},
     "output_type": "execute_result"
    }
   ],
   "source": [
    "vix = pd.read_csv(\"data/^VIX.csv\")\n",
    "vix[\"Date\"] = vix[\"Date\"].apply(pd.to_datetime)\n",
    "vix"
   ]
  },
  {
   "cell_type": "code",
   "execution_count": 55,
   "metadata": {},
   "outputs": [
    {
     "data": {
      "text/html": [
       "<div>\n",
       "<style scoped>\n",
       "    .dataframe tbody tr th:only-of-type {\n",
       "        vertical-align: middle;\n",
       "    }\n",
       "\n",
       "    .dataframe tbody tr th {\n",
       "        vertical-align: top;\n",
       "    }\n",
       "\n",
       "    .dataframe thead th {\n",
       "        text-align: right;\n",
       "    }\n",
       "</style>\n",
       "<table border=\"1\" class=\"dataframe\">\n",
       "  <thead>\n",
       "    <tr style=\"text-align: right;\">\n",
       "      <th></th>\n",
       "      <th>variable</th>\n",
       "      <th>value</th>\n",
       "      <th>date</th>\n",
       "      <th>Date</th>\n",
       "      <th>Open</th>\n",
       "      <th>High</th>\n",
       "      <th>Low</th>\n",
       "      <th>Close</th>\n",
       "      <th>Adj Close</th>\n",
       "      <th>Volume</th>\n",
       "    </tr>\n",
       "  </thead>\n",
       "  <tbody>\n",
       "    <tr>\n",
       "      <th>0</th>\n",
       "      <td>1/22/20</td>\n",
       "      <td>1</td>\n",
       "      <td>2020-01-22</td>\n",
       "      <td>2020-01-22</td>\n",
       "      <td>12.450000</td>\n",
       "      <td>13.010000</td>\n",
       "      <td>12.310000</td>\n",
       "      <td>12.910000</td>\n",
       "      <td>12.910000</td>\n",
       "      <td>0</td>\n",
       "    </tr>\n",
       "    <tr>\n",
       "      <th>1</th>\n",
       "      <td>1/23/20</td>\n",
       "      <td>1</td>\n",
       "      <td>2020-01-23</td>\n",
       "      <td>2020-01-23</td>\n",
       "      <td>13.260000</td>\n",
       "      <td>14.150000</td>\n",
       "      <td>12.940000</td>\n",
       "      <td>12.980000</td>\n",
       "      <td>12.980000</td>\n",
       "      <td>0</td>\n",
       "    </tr>\n",
       "    <tr>\n",
       "      <th>2</th>\n",
       "      <td>1/24/20</td>\n",
       "      <td>2</td>\n",
       "      <td>2020-01-24</td>\n",
       "      <td>2020-01-24</td>\n",
       "      <td>12.750000</td>\n",
       "      <td>15.980000</td>\n",
       "      <td>12.620000</td>\n",
       "      <td>14.560000</td>\n",
       "      <td>14.560000</td>\n",
       "      <td>0</td>\n",
       "    </tr>\n",
       "    <tr>\n",
       "      <th>3</th>\n",
       "      <td>1/27/20</td>\n",
       "      <td>5</td>\n",
       "      <td>2020-01-27</td>\n",
       "      <td>2020-01-27</td>\n",
       "      <td>17.420000</td>\n",
       "      <td>19.020000</td>\n",
       "      <td>16.820000</td>\n",
       "      <td>18.230000</td>\n",
       "      <td>18.230000</td>\n",
       "      <td>0</td>\n",
       "    </tr>\n",
       "    <tr>\n",
       "      <th>4</th>\n",
       "      <td>1/28/20</td>\n",
       "      <td>5</td>\n",
       "      <td>2020-01-28</td>\n",
       "      <td>2020-01-28</td>\n",
       "      <td>16.940001</td>\n",
       "      <td>18.030001</td>\n",
       "      <td>15.690000</td>\n",
       "      <td>16.280001</td>\n",
       "      <td>16.280001</td>\n",
       "      <td>0</td>\n",
       "    </tr>\n",
       "    <tr>\n",
       "      <th>...</th>\n",
       "      <td>...</td>\n",
       "      <td>...</td>\n",
       "      <td>...</td>\n",
       "      <td>...</td>\n",
       "      <td>...</td>\n",
       "      <td>...</td>\n",
       "      <td>...</td>\n",
       "      <td>...</td>\n",
       "      <td>...</td>\n",
       "      <td>...</td>\n",
       "    </tr>\n",
       "    <tr>\n",
       "      <th>56</th>\n",
       "      <td>4/3/20</td>\n",
       "      <td>275586</td>\n",
       "      <td>2020-04-03</td>\n",
       "      <td>2020-04-03</td>\n",
       "      <td>51.110001</td>\n",
       "      <td>52.290001</td>\n",
       "      <td>46.740002</td>\n",
       "      <td>46.799999</td>\n",
       "      <td>46.799999</td>\n",
       "      <td>0</td>\n",
       "    </tr>\n",
       "    <tr>\n",
       "      <th>57</th>\n",
       "      <td>4/6/20</td>\n",
       "      <td>366667</td>\n",
       "      <td>2020-04-06</td>\n",
       "      <td>2020-04-06</td>\n",
       "      <td>44.169998</td>\n",
       "      <td>45.730000</td>\n",
       "      <td>43.450001</td>\n",
       "      <td>45.240002</td>\n",
       "      <td>45.240002</td>\n",
       "      <td>0</td>\n",
       "    </tr>\n",
       "    <tr>\n",
       "      <th>58</th>\n",
       "      <td>4/7/20</td>\n",
       "      <td>397505</td>\n",
       "      <td>2020-04-07</td>\n",
       "      <td>2020-04-07</td>\n",
       "      <td>44.830002</td>\n",
       "      <td>47.509998</td>\n",
       "      <td>43.509998</td>\n",
       "      <td>46.700001</td>\n",
       "      <td>46.700001</td>\n",
       "      <td>0</td>\n",
       "    </tr>\n",
       "    <tr>\n",
       "      <th>59</th>\n",
       "      <td>4/8/20</td>\n",
       "      <td>429052</td>\n",
       "      <td>2020-04-08</td>\n",
       "      <td>2020-04-08</td>\n",
       "      <td>45.900002</td>\n",
       "      <td>47.279999</td>\n",
       "      <td>42.529999</td>\n",
       "      <td>43.349998</td>\n",
       "      <td>43.349998</td>\n",
       "      <td>0</td>\n",
       "    </tr>\n",
       "    <tr>\n",
       "      <th>60</th>\n",
       "      <td>4/9/20</td>\n",
       "      <td>462780</td>\n",
       "      <td>2020-04-09</td>\n",
       "      <td>2020-04-09</td>\n",
       "      <td>43.000000</td>\n",
       "      <td>45.730000</td>\n",
       "      <td>41.389999</td>\n",
       "      <td>41.669998</td>\n",
       "      <td>41.669998</td>\n",
       "      <td>0</td>\n",
       "    </tr>\n",
       "  </tbody>\n",
       "</table>\n",
       "<p>61 rows × 10 columns</p>\n",
       "</div>"
      ],
      "text/plain": [
       "   variable   value       date       Date       Open       High        Low  \\\n",
       "0   1/22/20       1 2020-01-22 2020-01-22  12.450000  13.010000  12.310000   \n",
       "1   1/23/20       1 2020-01-23 2020-01-23  13.260000  14.150000  12.940000   \n",
       "2   1/24/20       2 2020-01-24 2020-01-24  12.750000  15.980000  12.620000   \n",
       "3   1/27/20       5 2020-01-27 2020-01-27  17.420000  19.020000  16.820000   \n",
       "4   1/28/20       5 2020-01-28 2020-01-28  16.940001  18.030001  15.690000   \n",
       "..      ...     ...        ...        ...        ...        ...        ...   \n",
       "56   4/3/20  275586 2020-04-03 2020-04-03  51.110001  52.290001  46.740002   \n",
       "57   4/6/20  366667 2020-04-06 2020-04-06  44.169998  45.730000  43.450001   \n",
       "58   4/7/20  397505 2020-04-07 2020-04-07  44.830002  47.509998  43.509998   \n",
       "59   4/8/20  429052 2020-04-08 2020-04-08  45.900002  47.279999  42.529999   \n",
       "60   4/9/20  462780 2020-04-09 2020-04-09  43.000000  45.730000  41.389999   \n",
       "\n",
       "        Close  Adj Close  Volume  \n",
       "0   12.910000  12.910000       0  \n",
       "1   12.980000  12.980000       0  \n",
       "2   14.560000  14.560000       0  \n",
       "3   18.230000  18.230000       0  \n",
       "4   16.280001  16.280001       0  \n",
       "..        ...        ...     ...  \n",
       "56  46.799999  46.799999       0  \n",
       "57  45.240002  45.240002       0  \n",
       "58  46.700001  46.700001       0  \n",
       "59  43.349998  43.349998       0  \n",
       "60  41.669998  41.669998       0  \n",
       "\n",
       "[61 rows x 10 columns]"
      ]
     },
     "execution_count": 55,
     "metadata": {},
     "output_type": "execute_result"
    }
   ],
   "source": [
    "merged = pd.merge(cases, vix, left_on=\"date\", right_on=\"Date\")\n",
    "merged"
   ]
  },
  {
   "cell_type": "code",
   "execution_count": 58,
   "metadata": {},
   "outputs": [
    {
     "data": {
      "text/plain": [
       "17.165879079159566"
      ]
     },
     "execution_count": 58,
     "metadata": {},
     "output_type": "execute_result"
    }
   ],
   "source": [
    "m = LinearRegression().fit(merged[\"value\"].values.reshape((-1, 1)), merged[\"Close\"])\n",
    "mean_absolute_error(merged[\"Close\"], m.predict(merged[\"value\"].values.reshape((-1, 1))))"
   ]
  },
  {
   "cell_type": "code",
   "execution_count": 59,
   "metadata": {},
   "outputs": [
    {
     "data": {
      "text/plain": [
       "82.690002"
      ]
     },
     "execution_count": 59,
     "metadata": {},
     "output_type": "execute_result"
    }
   ],
   "source": [
    "max(merged[\"Close\"])"
   ]
  },
  {
   "cell_type": "code",
   "execution_count": 61,
   "metadata": {},
   "outputs": [],
   "source": [
    "import matplotlib.pyplot as plt\n",
    "%matplotlib inline"
   ]
  },
  {
   "cell_type": "code",
   "execution_count": 62,
   "metadata": {},
   "outputs": [
    {
     "data": {
      "text/plain": [
       "[<matplotlib.lines.Line2D at 0x11f7c32b0>]"
      ]
     },
     "execution_count": 62,
     "metadata": {},
     "output_type": "execute_result"
    },
    {
     "data": {
      "image/png": "[encoded data removed]",
      "text/plain": [
       "<Figure size 432x288 with 1 Axes>"
      ]
     },
     "metadata": {
      "needs_background": "light"
     },
     "output_type": "display_data"
    }
   ],
   "source": [
    "plt.plot(merged[\"variable\"], merged[\"Close\"])"
   ]
  },
  {
   "cell_type": "code",
   "execution_count": null,
   "metadata": {},
   "outputs": [],
   "source": []
  },
  {
   "cell_type": "code",
   "execution_count": null,
   "metadata": {},
   "outputs": [],
   "source": []
  },
  {
   "cell_type": "code",
   "execution_count": null,
   "metadata": {},
   "outputs": [],
   "source": []
  },
  {
   "cell_type": "code",
   "execution_count": null,
   "metadata": {},
   "outputs": [],
   "source": []
  },
  {
   "cell_type": "code",
   "execution_count": 3,
   "metadata": {},
   "outputs": [],
   "source": [
    "data = pd.read_csv(\"04-18-2020.csv\")"
   ]
  },
  {
   "cell_type": "code",
   "execution_count": 4,
   "metadata": {},
   "outputs": [],
   "source": [
    "data = data[data[\"Country_Region\"] == \"US\"]"
   ]
  },
  {
   "cell_type": "code",
   "execution_count": 5,
   "metadata": {},
   "outputs": [],
   "source": [
    "data = data.drop([\"Recovered\", \"People_Hospitalized\", \"Hospitalization_Rate\"], axis=1).drop(116)"
   ]
  },
  {
   "cell_type": "code",
   "execution_count": 6,
   "metadata": {},
   "outputs": [
    {
     "data": {
      "text/plain": [
       "Province_State    0\n",
       "Country_Region    0\n",
       "Last_Update       1\n",
       "Lat               2\n",
       "Long_             2\n",
       "Confirmed         0\n",
       "Deaths            0\n",
       "Active            1\n",
       "FIPS              0\n",
       "Incident_Rate     2\n",
       "People_Tested     2\n",
       "Mortality_Rate    1\n",
       "UID               0\n",
       "ISO3              0\n",
       "Testing_Rate      2\n",
       "dtype: int64"
      ]
     },
     "execution_count": 6,
     "metadata": {},
     "output_type": "execute_result"
    }
   ],
   "source": [
    "data.isna().sum()"
   ]
  },
  {
   "cell_type": "code",
   "execution_count": 7,
   "metadata": {},
   "outputs": [
    {
     "data": {
      "text/plain": [
       "(55, 15)"
      ]
     },
     "execution_count": 7,
     "metadata": {},
     "output_type": "execute_result"
    }
   ],
   "source": [
    "data.dropna().shape"
   ]
  },
  {
   "cell_type": "code",
   "execution_count": 16,
   "metadata": {},
   "outputs": [],
   "source": [
    "from sklearn.linear_model import LinearRegression, LogisticRegression, Ridge\n",
    "from sklearn.metrics import mean_squared_error, mean_absolute_error"
   ]
  },
  {
   "cell_type": "code",
   "execution_count": 17,
   "metadata": {},
   "outputs": [
    {
     "data": {
      "text/plain": [
       "Index(['Province_State', 'Country_Region', 'Last_Update', 'Lat', 'Long_',\n",
       "       'Confirmed', 'Deaths', 'Active', 'FIPS', 'Incident_Rate',\n",
       "       'People_Tested', 'Mortality_Rate', 'UID', 'ISO3', 'Testing_Rate'],\n",
       "      dtype='object')"
      ]
     },
     "execution_count": 17,
     "metadata": {},
     "output_type": "execute_result"
    }
   ],
   "source": [
    "data.columns"
   ]
  },
  {
   "cell_type": "code",
   "execution_count": 18,
   "metadata": {},
   "outputs": [],
   "source": [
    "features = [\"Confirmed\", \"Deaths\", \"Incident_Rate\", \"People_Tested\", \"Mortality_Rate\", \"Testing_Rate\", \"Active\"]"
   ]
  },
  {
   "cell_type": "code",
   "execution_count": 26,
   "metadata": {},
   "outputs": [],
   "source": [
    "from sklearn.model_selection import train_test_split, GridSearchCV"
   ]
  },
  {
   "cell_type": "code",
   "execution_count": 20,
   "metadata": {},
   "outputs": [],
   "source": [
    "train, test = train_test_split(data)"
   ]
  },
  {
   "cell_type": "code",
   "execution_count": 22,
   "metadata": {},
   "outputs": [],
   "source": [
    "def process(data, ylabel):\n",
    "    data = data.dropna(subset=features)\n",
    "    Xfeat = [l for l in data.columns if (l in features and l != ylabel)]\n",
    "    X = data[Xfeat]\n",
    "    y = data[ylabel]\n",
    "    return X, y"
   ]
  },
  {
   "cell_type": "code",
   "execution_count": 23,
   "metadata": {},
   "outputs": [],
   "source": [
    "X_train, y_train = process(train, \"Mortality_Rate\")\n",
    "X_test, y_test = process(test, \"Mortality_Rate\")"
   ]
  },
  {
   "cell_type": "code",
   "execution_count": 31,
   "metadata": {},
   "outputs": [
    {
     "name": "stdout",
     "output_type": "stream",
     "text": [
      "Predicting: Confirmed\n",
      "\tTraining Errors: 5.478158305916217e-11\t2.6305331896476606e-11\n",
      "\tTesting Errors: 1.4485812390914577e-11\t1.2100542789994506e-11\n",
      "Predicting: Deaths\n",
      "\tTraining Errors: 2.656752273939017e-11\t1.7241362808995403e-11\n",
      "\tTesting Errors: 1.5435810980282094e-11\t1.3852395421208387e-11\n",
      "Predicting: Incident_Rate\n",
      "\tTraining Errors: 53.38792327933146\t40.28168660929744\n",
      "\tTesting Errors: 107.44748334796904\t72.83969315020765\n",
      "Predicting: People_Tested\n",
      "\tTraining Errors: 20240.878025921822\t15100.010488325199\n",
      "\tTesting Errors: 49355.86634328043\t30953.59806823904\n",
      "Predicting: Mortality_Rate\n",
      "\tTraining Errors: 1.0045839980780837\t0.8656506488287223\n",
      "\tTesting Errors: 3.0472057935670542\t1.74680862927393\n",
      "Predicting: Testing_Rate\n",
      "\tTraining Errors: 316.37778354760013\t267.2915755659911\n",
      "\tTesting Errors: 553.0090760178732\t367.6221211654401\n",
      "Predicting: Active\n",
      "\tTraining Errors: 3.5324645245916925e-11\t1.8651573510596347e-11\n",
      "\tTesting Errors: 2.418038980027244e-11\t1.804080694358033e-11\n"
     ]
    }
   ],
   "source": [
    "for col in features:\n",
    "    X_train, y_train = process(train, col)\n",
    "    X_test, y_test = process(test, col)\n",
    "    model = LinearRegression()\n",
    "    model.fit(X_train, y_train)\n",
    "    y_fitted = model.predict(X_train)\n",
    "    y_pred = model.predict(X_test)\n",
    "    print(\"Predicting: {}\".format(col))\n",
    "    print(\"\\tTraining Errors: {}\\t{}\".format(np.sqrt(mean_squared_error(y_train, y_fitted)), \n",
    "                                       mean_absolute_error(y_train, y_fitted)))\n",
    "    print(\"\\tTesting Errors: {}\\t{}\".format(np.sqrt(mean_squared_error(y_test, y_pred)), \n",
    "                                       mean_absolute_error(y_test, y_pred)))"
   ]
  },
  {
   "cell_type": "code",
   "execution_count": 35,
   "metadata": {},
   "outputs": [
    {
     "name": "stdout",
     "output_type": "stream",
     "text": [
      "Predicting: Confirmed\n",
      "\t Ridge(alpha=1e-15, copy_X=True, fit_intercept=True, max_iter=None,\n",
      "   normalize=False, random_state=None, solver='auto', tol=0.001)\n",
      "\tTraining Errors: 5.960430183675086e-11\t4.265751979291076e-11\n",
      "\tTesting Errors: 1.5024940484922603e-10\t8.377210036769611e-11\n",
      "Predicting: Deaths\n",
      "\t Ridge(alpha=1e-15, copy_X=True, fit_intercept=True, max_iter=None,\n",
      "   normalize=False, random_state=None, solver='auto', tol=0.001)\n",
      "\tTraining Errors: 5.54563737179468e-09\t3.816962247626413e-09\n",
      "\tTesting Errors: 1.4411217815422034e-08\t7.710181572560617e-09\n",
      "Predicting: Incident_Rate\n",
      "\t Ridge(alpha=1e-11, copy_X=True, fit_intercept=True, max_iter=None,\n",
      "   normalize=False, random_state=None, solver='auto', tol=0.001)\n",
      "\tTraining Errors: 53.38792327933145\t40.28168660929335\n",
      "\tTesting Errors: 107.44748334795115\t72.8396931501937\n",
      "Predicting: People_Tested\n",
      "\t Ridge(alpha=1e-15, copy_X=True, fit_intercept=True, max_iter=None,\n",
      "   normalize=False, random_state=None, solver='auto', tol=0.001)\n",
      "\tTraining Errors: 20240.87802592183\t15100.01048832527\n",
      "\tTesting Errors: 49355.86634328052\t30953.598068239207\n",
      "Predicting: Mortality_Rate\n",
      "\t Ridge(alpha=1e-15, copy_X=True, fit_intercept=True, max_iter=None,\n",
      "   normalize=False, random_state=None, solver='auto', tol=0.001)\n",
      "\tTraining Errors: 1.0045839980780835\t0.8656506488287199\n",
      "\tTesting Errors: 3.047205793567051\t1.746808629273934\n",
      "Predicting: Testing_Rate\n",
      "\t Ridge(alpha=1e-15, copy_X=True, fit_intercept=True, max_iter=None,\n",
      "   normalize=False, random_state=None, solver='auto', tol=0.001)\n",
      "\tTraining Errors: 316.37778354760013\t267.2915755659935\n",
      "\tTesting Errors: 553.0090760178758\t367.6221211654435\n",
      "Predicting: Active\n",
      "\t Ridge(alpha=1e-15, copy_X=True, fit_intercept=True, max_iter=None,\n",
      "   normalize=False, random_state=None, solver='auto', tol=0.001)\n",
      "\tTraining Errors: 2.4620128238037884e-10\t1.8112462207571343e-10\n",
      "\tTesting Errors: 6.074831878348379e-10\t3.782142852872182e-10\n"
     ]
    }
   ],
   "source": [
    "for col in features:\n",
    "    X_train, y_train = process(train, col)\n",
    "    X_test, y_test = process(test, col)\n",
    "    model = GridSearchCV(Ridge(), {\"alpha\": np.geomspace(1e-15, 1e3, 10)})\n",
    "    model.fit(X_train, y_train)\n",
    "    y_fitted = model.best_estimator_.predict(X_train)\n",
    "    y_pred = model.best_estimator_.predict(X_test)\n",
    "    print(\"Predicting: {}\".format(col))\n",
    "    print(\"\\t\", model.best_estimator_)\n",
    "    print(\"\\tTraining Errors: {}\\t{}\".format(np.sqrt(mean_squared_error(y_train, y_fitted)), \n",
    "                                       mean_absolute_error(y_train, y_fitted)))\n",
    "    print(\"\\tTesting Errors: {}\\t{}\".format(np.sqrt(mean_squared_error(y_test, y_pred)), \n",
    "                                       mean_absolute_error(y_test, y_pred)))"
   ]
  }
 ],
 "metadata": {
  "kernelspec": {
   "display_name": "Python 3",
   "language": "python",
   "name": "python3"
  },
  "language_info": {
   "codemirror_mode": {
    "name": "ipython",
    "version": 3
   },
   "file_extension": ".py",
   "mimetype": "text/x-python",
   "name": "python",
   "nbconvert_exporter": "python",
   "pygments_lexer": "ipython3",
   "version": "3.7.4"
  }
 },
 "nbformat": 4,
 "nbformat_minor": 4
}
